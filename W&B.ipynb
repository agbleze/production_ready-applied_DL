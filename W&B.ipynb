{
  "cells": [
    {
      "cell_type": "markdown",
      "metadata": {
        "id": "view-in-github",
        "colab_type": "text"
      },
      "source": [
        "<a href=\"https://colab.research.google.com/github/agbleze/production_ready-applied_DL/blob/main/W%26B.ipynb\" target=\"_parent\"><img src=\"https://colab.research.google.com/assets/colab-badge.svg\" alt=\"Open In Colab\"/></a>"
      ]
    },
    {
      "cell_type": "code",
      "source": [
        "!pip install wandb"
      ],
      "metadata": {
        "colab": {
          "base_uri": "https://localhost:8080/"
        },
        "id": "tIpUZ3PoRfS7",
        "outputId": "97fdfd21-ffbf-46e2-ed1c-44b82c94783c"
      },
      "id": "tIpUZ3PoRfS7",
      "execution_count": 1,
      "outputs": [
        {
          "output_type": "stream",
          "name": "stdout",
          "text": [
            "Collecting wandb\n",
            "  Downloading wandb-0.15.8-py3-none-any.whl (2.1 MB)\n",
            "\u001b[2K     \u001b[90m━━━━━━━━━━━━━━━━━━━━━━━━━━━━━━━━━━━━━━━━\u001b[0m \u001b[32m2.1/2.1 MB\u001b[0m \u001b[31m9.3 MB/s\u001b[0m eta \u001b[36m0:00:00\u001b[0m\n",
            "\u001b[?25hRequirement already satisfied: Click!=8.0.0,>=7.1 in /usr/local/lib/python3.10/dist-packages (from wandb) (8.1.7)\n",
            "Collecting GitPython!=3.1.29,>=1.0.0 (from wandb)\n",
            "  Downloading GitPython-3.1.32-py3-none-any.whl (188 kB)\n",
            "\u001b[2K     \u001b[90m━━━━━━━━━━━━━━━━━━━━━━━━━━━━━━━━━━━━━━\u001b[0m \u001b[32m188.5/188.5 kB\u001b[0m \u001b[31m12.7 MB/s\u001b[0m eta \u001b[36m0:00:00\u001b[0m\n",
            "\u001b[?25hRequirement already satisfied: requests<3,>=2.0.0 in /usr/local/lib/python3.10/dist-packages (from wandb) (2.31.0)\n",
            "Requirement already satisfied: psutil>=5.0.0 in /usr/local/lib/python3.10/dist-packages (from wandb) (5.9.5)\n",
            "Collecting sentry-sdk>=1.0.0 (from wandb)\n",
            "  Downloading sentry_sdk-1.29.2-py2.py3-none-any.whl (215 kB)\n",
            "\u001b[2K     \u001b[90m━━━━━━━━━━━━━━━━━━━━━━━━━━━━━━━━━━━━━━\u001b[0m \u001b[32m215.6/215.6 kB\u001b[0m \u001b[31m12.4 MB/s\u001b[0m eta \u001b[36m0:00:00\u001b[0m\n",
            "\u001b[?25hCollecting docker-pycreds>=0.4.0 (from wandb)\n",
            "  Downloading docker_pycreds-0.4.0-py2.py3-none-any.whl (9.0 kB)\n",
            "Requirement already satisfied: PyYAML in /usr/local/lib/python3.10/dist-packages (from wandb) (6.0.1)\n",
            "Collecting pathtools (from wandb)\n",
            "  Downloading pathtools-0.1.2.tar.gz (11 kB)\n",
            "  Preparing metadata (setup.py) ... \u001b[?25l\u001b[?25hdone\n",
            "Collecting setproctitle (from wandb)\n",
            "  Downloading setproctitle-1.3.2-cp310-cp310-manylinux_2_5_x86_64.manylinux1_x86_64.manylinux_2_17_x86_64.manylinux2014_x86_64.whl (30 kB)\n",
            "Requirement already satisfied: setuptools in /usr/local/lib/python3.10/dist-packages (from wandb) (67.7.2)\n",
            "Requirement already satisfied: appdirs>=1.4.3 in /usr/local/lib/python3.10/dist-packages (from wandb) (1.4.4)\n",
            "Requirement already satisfied: protobuf!=4.21.0,<5,>=3.19.0 in /usr/local/lib/python3.10/dist-packages (from wandb) (3.20.3)\n",
            "Requirement already satisfied: six>=1.4.0 in /usr/local/lib/python3.10/dist-packages (from docker-pycreds>=0.4.0->wandb) (1.16.0)\n",
            "Collecting gitdb<5,>=4.0.1 (from GitPython!=3.1.29,>=1.0.0->wandb)\n",
            "  Downloading gitdb-4.0.10-py3-none-any.whl (62 kB)\n",
            "\u001b[2K     \u001b[90m━━━━━━━━━━━━━━━━━━━━━━━━━━━━━━━━━━━━━━━━\u001b[0m \u001b[32m62.7/62.7 kB\u001b[0m \u001b[31m4.8 MB/s\u001b[0m eta \u001b[36m0:00:00\u001b[0m\n",
            "\u001b[?25hRequirement already satisfied: charset-normalizer<4,>=2 in /usr/local/lib/python3.10/dist-packages (from requests<3,>=2.0.0->wandb) (3.2.0)\n",
            "Requirement already satisfied: idna<4,>=2.5 in /usr/local/lib/python3.10/dist-packages (from requests<3,>=2.0.0->wandb) (3.4)\n",
            "Requirement already satisfied: urllib3<3,>=1.21.1 in /usr/local/lib/python3.10/dist-packages (from requests<3,>=2.0.0->wandb) (2.0.4)\n",
            "Requirement already satisfied: certifi>=2017.4.17 in /usr/local/lib/python3.10/dist-packages (from requests<3,>=2.0.0->wandb) (2023.7.22)\n",
            "Collecting smmap<6,>=3.0.1 (from gitdb<5,>=4.0.1->GitPython!=3.1.29,>=1.0.0->wandb)\n",
            "  Downloading smmap-5.0.0-py3-none-any.whl (24 kB)\n",
            "Building wheels for collected packages: pathtools\n",
            "  Building wheel for pathtools (setup.py) ... \u001b[?25l\u001b[?25hdone\n",
            "  Created wheel for pathtools: filename=pathtools-0.1.2-py3-none-any.whl size=8791 sha256=40b6fa2eaf988f3cd0540e5bda915f474c384f213708efc336da7932f411bf0b\n",
            "  Stored in directory: /root/.cache/pip/wheels/e7/f3/22/152153d6eb222ee7a56ff8617d80ee5207207a8c00a7aab794\n",
            "Successfully built pathtools\n",
            "Installing collected packages: pathtools, smmap, setproctitle, sentry-sdk, docker-pycreds, gitdb, GitPython, wandb\n",
            "Successfully installed GitPython-3.1.32 docker-pycreds-0.4.0 gitdb-4.0.10 pathtools-0.1.2 sentry-sdk-1.29.2 setproctitle-1.3.2 smmap-5.0.0 wandb-0.15.8\n"
          ]
        }
      ]
    },
    {
      "cell_type": "code",
      "execution_count": 2,
      "id": "36677c6e",
      "metadata": {
        "id": "36677c6e"
      },
      "outputs": [],
      "source": [
        "import wandb"
      ]
    },
    {
      "cell_type": "code",
      "execution_count": 3,
      "id": "72c0ba62",
      "metadata": {
        "id": "72c0ba62"
      },
      "outputs": [],
      "source": [
        "import numpy as np"
      ]
    },
    {
      "cell_type": "code",
      "source": [
        "!wandb login --relogin"
      ],
      "metadata": {
        "colab": {
          "base_uri": "https://localhost:8080/"
        },
        "id": "O7BS80xcSMfu",
        "outputId": "f068e4b2-dbf6-4e7d-832d-6b8cd6f9c5cd"
      },
      "id": "O7BS80xcSMfu",
      "execution_count": 4,
      "outputs": [
        {
          "output_type": "stream",
          "name": "stdout",
          "text": [
            "\u001b[34m\u001b[1mwandb\u001b[0m: Logging into wandb.ai. (Learn how to deploy a W&B server locally: https://wandb.me/wandb-server)\n",
            "\u001b[34m\u001b[1mwandb\u001b[0m: You can find your API key in your browser here: https://wandb.ai/authorize\n",
            "\u001b[34m\u001b[1mwandb\u001b[0m: Paste an API key from your profile and hit enter, or press ctrl+c to quit: \n",
            "\u001b[34m\u001b[1mwandb\u001b[0m: Appending key for api.wandb.ai to your netrc file: /root/.netrc\n"
          ]
        }
      ]
    },
    {
      "cell_type": "code",
      "execution_count": 22,
      "id": "1928d148",
      "metadata": {
        "colab": {
          "base_uri": "https://localhost:8080/",
          "height": 209
        },
        "id": "1928d148",
        "outputId": "3fa7d102-5615-488e-c971-81469b978192"
      },
      "outputs": [
        {
          "output_type": "display_data",
          "data": {
            "text/plain": [
              "<IPython.core.display.HTML object>"
            ],
            "text/html": [
              "Finishing last run (ID:spy314kx) before initializing another..."
            ]
          },
          "metadata": {}
        },
        {
          "output_type": "display_data",
          "data": {
            "text/plain": [
              "<IPython.core.display.HTML object>"
            ],
            "text/html": [
              "Waiting for W&B process to finish... <strong style=\"color:green\">(success).</strong>"
            ]
          },
          "metadata": {}
        },
        {
          "output_type": "display_data",
          "data": {
            "text/plain": [
              "<IPython.core.display.HTML object>"
            ],
            "text/html": [
              " View run <strong style=\"color:#cdcd00\">fancy-cherry-2</strong> at: <a href='https://wandb.ai/datasiast/uncategorized/runs/spy314kx' target=\"_blank\">https://wandb.ai/datasiast/uncategorized/runs/spy314kx</a><br/>Synced 4 W&B file(s), 0 media file(s), 0 artifact file(s) and 0 other file(s)"
            ]
          },
          "metadata": {}
        },
        {
          "output_type": "display_data",
          "data": {
            "text/plain": [
              "<IPython.core.display.HTML object>"
            ],
            "text/html": [
              "Find logs at: <code>./wandb/run-20230826_194855-spy314kx/logs</code>"
            ]
          },
          "metadata": {}
        },
        {
          "output_type": "display_data",
          "data": {
            "text/plain": [
              "<IPython.core.display.HTML object>"
            ],
            "text/html": [
              "Successfully finished last run (ID:spy314kx). Initializing new run:<br/>"
            ]
          },
          "metadata": {}
        },
        {
          "output_type": "display_data",
          "data": {
            "text/plain": [
              "<IPython.core.display.HTML object>"
            ],
            "text/html": [
              "Tracking run with wandb version 0.15.8"
            ]
          },
          "metadata": {}
        },
        {
          "output_type": "display_data",
          "data": {
            "text/plain": [
              "<IPython.core.display.HTML object>"
            ],
            "text/html": [
              "Run data is saved locally in <code>/content/wandb/run-20230826_195117-fazow6bv</code>"
            ]
          },
          "metadata": {}
        },
        {
          "output_type": "display_data",
          "data": {
            "text/plain": [
              "<IPython.core.display.HTML object>"
            ],
            "text/html": [
              "Syncing run <strong><a href='https://wandb.ai/datasiast/example-DL-Book/runs/fazow6bv' target=\"_blank\">run-1</a></strong> to <a href='https://wandb.ai/datasiast/example-DL-Book' target=\"_blank\">Weights & Biases</a> (<a href='https://wandb.me/run' target=\"_blank\">docs</a>)<br/>"
            ]
          },
          "metadata": {}
        },
        {
          "output_type": "display_data",
          "data": {
            "text/plain": [
              "<IPython.core.display.HTML object>"
            ],
            "text/html": [
              " View project at <a href='https://wandb.ai/datasiast/example-DL-Book' target=\"_blank\">https://wandb.ai/datasiast/example-DL-Book</a>"
            ]
          },
          "metadata": {}
        },
        {
          "output_type": "display_data",
          "data": {
            "text/plain": [
              "<IPython.core.display.HTML object>"
            ],
            "text/html": [
              " View run at <a href='https://wandb.ai/datasiast/example-DL-Book/runs/fazow6bv' target=\"_blank\">https://wandb.ai/datasiast/example-DL-Book/runs/fazow6bv</a>"
            ]
          },
          "metadata": {}
        }
      ],
      "source": [
        "run= wandb.init(project=\"example-DL-Book\", name=\"run-1\")#, entity=\"tpalczew\")"
      ]
    },
    {
      "cell_type": "code",
      "execution_count": 23,
      "id": "aed6a79b",
      "metadata": {
        "id": "aed6a79b"
      },
      "outputs": [],
      "source": [
        "wandb.config = {\n",
        "  \"learning_rate\": 0.001,\n",
        "  \"epochs\": 100,\n",
        "  \"batch_size\": 128\n",
        "}"
      ]
    },
    {
      "cell_type": "code",
      "source": [
        "!pwd"
      ],
      "metadata": {
        "colab": {
          "base_uri": "https://localhost:8080/"
        },
        "id": "yANQAxH7WYHT",
        "outputId": "aec141bc-ffe7-43cd-f83e-9c63b7cb0f4a"
      },
      "id": "yANQAxH7WYHT",
      "execution_count": 24,
      "outputs": [
        {
          "output_type": "stream",
          "name": "stdout",
          "text": [
            "/content\n"
          ]
        }
      ]
    },
    {
      "cell_type": "code",
      "source": [
        "import os\n",
        "file_path = os.getcwd()"
      ],
      "metadata": {
        "id": "hyhLa3WCWe8n"
      },
      "id": "hyhLa3WCWe8n",
      "execution_count": 25,
      "outputs": []
    },
    {
      "cell_type": "code",
      "execution_count": 7,
      "id": "971beae9",
      "metadata": {
        "id": "971beae9"
      },
      "outputs": [],
      "source": [
        "#file_path = '/Users/tpalczew/WB/example/'"
      ]
    },
    {
      "cell_type": "code",
      "execution_count": 26,
      "id": "72119cf0",
      "metadata": {
        "colab": {
          "base_uri": "https://localhost:8080/"
        },
        "id": "72119cf0",
        "outputId": "71fbf84e-eff7-4064-fd8f-33ddc0ae60bd"
      },
      "outputs": [
        {
          "output_type": "stream",
          "name": "stderr",
          "text": [
            "\u001b[34m\u001b[1mwandb\u001b[0m: Adding directory to artifact (/content)... Done. 0.2s\n"
          ]
        },
        {
          "output_type": "execute_result",
          "data": {
            "text/plain": [
              "<Artifact new_artifact>"
            ]
          },
          "metadata": {},
          "execution_count": 26
        }
      ],
      "source": [
        "wandb.log_artifact(file_path, name='new_artifact', type='my_dataset')"
      ]
    },
    {
      "cell_type": "code",
      "execution_count": 27,
      "id": "fe7e637d",
      "metadata": {
        "id": "fe7e637d"
      },
      "outputs": [],
      "source": [
        "artifact = wandb.Artifact('new_artifact', type='my_dataset')"
      ]
    },
    {
      "cell_type": "code",
      "source": [
        "artifact"
      ],
      "metadata": {
        "colab": {
          "base_uri": "https://localhost:8080/"
        },
        "id": "xAIpo0fnXoBK",
        "outputId": "267ea6d1-0070-44fb-a8d4-80842a7f7298"
      },
      "id": "xAIpo0fnXoBK",
      "execution_count": 28,
      "outputs": [
        {
          "output_type": "execute_result",
          "data": {
            "text/plain": [
              "<Artifact new_artifact>"
            ]
          },
          "metadata": {},
          "execution_count": 28
        }
      ]
    },
    {
      "cell_type": "code",
      "source": [
        "!mkdir dataset"
      ],
      "metadata": {
        "colab": {
          "base_uri": "https://localhost:8080/"
        },
        "id": "4ee6gAKOYBkh",
        "outputId": "db637681-38c8-4ee1-b851-46da029445e9"
      },
      "id": "4ee6gAKOYBkh",
      "execution_count": 29,
      "outputs": [
        {
          "output_type": "stream",
          "name": "stdout",
          "text": [
            "mkdir: cannot create directory ‘dataset’: File exists\n"
          ]
        }
      ]
    },
    {
      "cell_type": "code",
      "execution_count": 30,
      "id": "454d0957",
      "metadata": {
        "colab": {
          "base_uri": "https://localhost:8080/"
        },
        "id": "454d0957",
        "outputId": "602ba277-9713-4f23-d7c6-54b3d47c658e"
      },
      "outputs": [
        {
          "output_type": "stream",
          "name": "stderr",
          "text": [
            "\u001b[34m\u001b[1mwandb\u001b[0m: Adding directory to artifact (/content/dataset)... Done. 0.0s\n"
          ]
        }
      ],
      "source": [
        "#artifact.add_dir('/Users/tpalczew/dataset/')\n",
        "artifact.add_dir(f'{file_path}/dataset')"
      ]
    },
    {
      "cell_type": "code",
      "execution_count": 31,
      "id": "3ec0c2d7",
      "metadata": {
        "colab": {
          "base_uri": "https://localhost:8080/"
        },
        "id": "3ec0c2d7",
        "outputId": "7bf45929-f787-44b7-c19e-19615d844b04"
      },
      "outputs": [
        {
          "output_type": "execute_result",
          "data": {
            "text/plain": [
              "<Artifact new_artifact>"
            ]
          },
          "metadata": {},
          "execution_count": 31
        }
      ],
      "source": [
        "wandb.log_artifact(artifact)"
      ]
    },
    {
      "cell_type": "code",
      "execution_count": 33,
      "id": "b9d1d82d",
      "metadata": {
        "id": "b9d1d82d"
      },
      "outputs": [],
      "source": [
        "#import wandb\n",
        "#run = wandb.init()\n",
        "artifact = run.use_artifact('datasiast/example-DL-Book/new_artifact:v3', type='my_dataset')\n",
        "\n",
        "# datasiast/example-DL-Book/new_artifact:v3\n",
        "artifact_dir = artifact.download()\n",
        "\n",
        "\n",
        "#import wandb\n",
        "#run = wandb.init()\n",
        "#artifact = run.use_artifact('datasiast/example-DL-Book/new_artifact:v3', type='my_dataset')\n",
        "#artifact_dir = artifact.download()"
      ]
    },
    {
      "cell_type": "code",
      "execution_count": 34,
      "id": "45c0e4db",
      "metadata": {
        "colab": {
          "base_uri": "https://localhost:8080/"
        },
        "id": "45c0e4db",
        "outputId": "ed336fdc-3301-4bfc-ef00-c4aacacada4d"
      },
      "outputs": [
        {
          "output_type": "stream",
          "name": "stdout",
          "text": [
            "./artifacts/new_artifact:v3\n"
          ]
        }
      ],
      "source": [
        "print(artifact_dir)"
      ]
    },
    {
      "cell_type": "code",
      "execution_count": 35,
      "id": "07d53916",
      "metadata": {
        "colab": {
          "base_uri": "https://localhost:8080/"
        },
        "id": "07d53916",
        "outputId": "4f22b787-1ebc-4e82-8f10-2f93697617c0"
      },
      "outputs": [
        {
          "output_type": "stream",
          "name": "stdout",
          "text": [
            "2.12.0\n"
          ]
        }
      ],
      "source": [
        "import tensorflow as tf\n",
        "from tensorflow import keras\n",
        "from tensorflow.keras import layers\n",
        "print(tf.__version__) # should return tf 2.x version"
      ]
    },
    {
      "cell_type": "code",
      "execution_count": 36,
      "id": "55cf0e98",
      "metadata": {
        "id": "55cf0e98"
      },
      "outputs": [],
      "source": [
        "import os\n",
        "os.environ[\"CUDA_DEVICE_ORDER\"] = \"PCI_BUS_ID\"\n",
        "os.environ[\"CUDA_VISIBLE_DEVICES\"] = \"\""
      ]
    },
    {
      "cell_type": "code",
      "execution_count": 37,
      "id": "c3338e8d",
      "metadata": {
        "id": "c3338e8d"
      },
      "outputs": [],
      "source": [
        "model = keras.Sequential()\n",
        "model.add(keras.Input(shape=(50,)))\n",
        "model.add(layers.Dense(128, activation=\"relu\", name=\"layer1\"))\n",
        "model.add(layers.Dense(256, activation=\"relu\", name=\"layer2\"))\n",
        "model.add(layers.Dense(1, activation=\"sigmoid\", name=\"layer3\"))"
      ]
    },
    {
      "cell_type": "code",
      "execution_count": 38,
      "id": "1f5c188c",
      "metadata": {
        "id": "1f5c188c"
      },
      "outputs": [],
      "source": [
        "from wandb.keras import WandbCallback"
      ]
    },
    {
      "cell_type": "code",
      "execution_count": 39,
      "id": "1c00c476",
      "metadata": {
        "id": "1c00c476"
      },
      "outputs": [],
      "source": [
        "wandb.config = {\n",
        "  \"learning_rate\": 0.001,\n",
        "  \"epochs\": 100,\n",
        "  \"batch_size\": 128\n",
        "}"
      ]
    },
    {
      "cell_type": "code",
      "execution_count": 40,
      "id": "8a9afe26",
      "metadata": {
        "colab": {
          "base_uri": "https://localhost:8080/"
        },
        "id": "8a9afe26",
        "outputId": "6f2f3948-b7ef-4e13-e5ed-fa7e268b2413"
      },
      "outputs": [
        {
          "output_type": "stream",
          "name": "stdout",
          "text": [
            "{'learning_rate': 0.001, 'epochs': 100, 'batch_size': 128}\n"
          ]
        }
      ],
      "source": [
        "print(wandb.config)"
      ]
    },
    {
      "cell_type": "code",
      "execution_count": 41,
      "id": "acab3cdd",
      "metadata": {
        "id": "acab3cdd"
      },
      "outputs": [],
      "source": [
        "optimizer = tf.keras.optimizers.Nadam(learning_rate=wandb.config['learning_rate'], beta_1=0.9, beta_2=0.999, clipnorm=1.0)\n",
        "\n",
        "model.compile(loss = \"binary_crossentropy\", optimizer=optimizer, metrics=['accuracy'])"
      ]
    },
    {
      "cell_type": "code",
      "execution_count": 42,
      "id": "1819e253",
      "metadata": {
        "id": "1819e253"
      },
      "outputs": [],
      "source": [
        "fake_data = np.random.rand(1000,50)"
      ]
    },
    {
      "cell_type": "code",
      "execution_count": 43,
      "id": "6e62f6f1",
      "metadata": {
        "id": "6e62f6f1"
      },
      "outputs": [],
      "source": [
        "fake_labels = np.random.randint(2, size=(1000,1))"
      ]
    },
    {
      "cell_type": "code",
      "execution_count": 44,
      "id": "e8c3827b",
      "metadata": {
        "id": "e8c3827b"
      },
      "outputs": [],
      "source": [
        "fake_data_val = np.random.rand(1000,50)"
      ]
    },
    {
      "cell_type": "code",
      "execution_count": 45,
      "id": "c68d925b",
      "metadata": {
        "id": "c68d925b"
      },
      "outputs": [],
      "source": [
        "fake_labels_val = np.random.randint(2, size=(1000,1))"
      ]
    },
    {
      "cell_type": "code",
      "execution_count": 46,
      "id": "67d999a9",
      "metadata": {
        "colab": {
          "base_uri": "https://localhost:8080/"
        },
        "id": "67d999a9",
        "outputId": "a676ea88-f6f7-4a65-89fa-237d3d68f817"
      },
      "outputs": [
        {
          "output_type": "stream",
          "name": "stderr",
          "text": [
            "\u001b[34m\u001b[1mwandb\u001b[0m: \u001b[33mWARNING\u001b[0m The save_model argument by default saves the model in the HDF5 format that cannot save custom objects like subclassed models and custom layers. This behavior will be deprecated in a future release in favor of the SavedModel format. Meanwhile, the HDF5 model is saved as W&B files and the SavedModel as W&B Artifacts.\n"
          ]
        }
      ],
      "source": [
        "logging_callback = WandbCallback(log_evaluation=True)"
      ]
    },
    {
      "cell_type": "code",
      "execution_count": 47,
      "id": "1f8da8f7",
      "metadata": {
        "colab": {
          "base_uri": "https://localhost:8080/"
        },
        "id": "1f8da8f7",
        "outputId": "8e11a9be-287e-4a26-bbef-e1dd37e1af18"
      },
      "outputs": [
        {
          "output_type": "stream",
          "name": "stdout",
          "text": [
            "Epoch 1/100\n",
            "1/8 [==>...........................] - ETA: 16s - loss: 0.7040 - accuracy: 0.5000"
          ]
        },
        {
          "output_type": "stream",
          "name": "stderr",
          "text": [
            "WARNING:absl:Found untraced functions such as _update_step_xla while saving (showing 1 of 1). These functions will not be directly callable after loading.\n",
            "\u001b[34m\u001b[1mwandb\u001b[0m: Adding directory to artifact (/content/wandb/run-20230826_195117-fazow6bv/files/model-best)... Done. 0.0s\n"
          ]
        },
        {
          "output_type": "stream",
          "name": "stdout",
          "text": [
            "\b\b\b\b\b\b\b\b\b\b\b\b\b\b\b\b\b\b\b\b\b\b\b\b\b\b\b\b\b\b\b\b\b\b\b\b\b\b\b\b\b\b\b\b\b\b\b\b\b\b\b\b\b\b\b\b\b\b\b\b\b\b\b\b\b\b\b\b\b\b\b\b\b\b\b\b\b\b\b\b\b\r8/8 [==============================] - 4s 252ms/step - loss: 0.6973 - accuracy: 0.4860 - val_loss: 0.6948 - val_accuracy: 0.5010\n",
            "Epoch 2/100\n",
            "8/8 [==============================] - 0s 13ms/step - loss: 0.6905 - accuracy: 0.5340 - val_loss: 0.6960 - val_accuracy: 0.5060\n",
            "Epoch 3/100\n",
            "8/8 [==============================] - 0s 17ms/step - loss: 0.6817 - accuracy: 0.5870 - val_loss: 0.6977 - val_accuracy: 0.4840\n",
            "Epoch 4/100\n",
            "8/8 [==============================] - 0s 20ms/step - loss: 0.6744 - accuracy: 0.5900 - val_loss: 0.7046 - val_accuracy: 0.5130\n",
            "Epoch 5/100\n",
            "8/8 [==============================] - 0s 43ms/step - loss: 0.6684 - accuracy: 0.5940 - val_loss: 0.7047 - val_accuracy: 0.5050\n",
            "Epoch 6/100\n",
            "8/8 [==============================] - 0s 12ms/step - loss: 0.6608 - accuracy: 0.6220 - val_loss: 0.7068 - val_accuracy: 0.4900\n",
            "Epoch 7/100\n",
            "8/8 [==============================] - 0s 13ms/step - loss: 0.6535 - accuracy: 0.6440 - val_loss: 0.7123 - val_accuracy: 0.4880\n",
            "Epoch 8/100\n",
            "8/8 [==============================] - 0s 12ms/step - loss: 0.6439 - accuracy: 0.6440 - val_loss: 0.7203 - val_accuracy: 0.4970\n",
            "Epoch 9/100\n",
            "8/8 [==============================] - 0s 10ms/step - loss: 0.6371 - accuracy: 0.6440 - val_loss: 0.7228 - val_accuracy: 0.4850\n",
            "Epoch 10/100\n",
            "8/8 [==============================] - 0s 10ms/step - loss: 0.6278 - accuracy: 0.6610 - val_loss: 0.7298 - val_accuracy: 0.4840\n",
            "Epoch 11/100\n",
            "8/8 [==============================] - 0s 10ms/step - loss: 0.6172 - accuracy: 0.6770 - val_loss: 0.7333 - val_accuracy: 0.4920\n",
            "Epoch 12/100\n",
            "8/8 [==============================] - 0s 10ms/step - loss: 0.6072 - accuracy: 0.6780 - val_loss: 0.7388 - val_accuracy: 0.4990\n",
            "Epoch 13/100\n",
            "8/8 [==============================] - 0s 10ms/step - loss: 0.5957 - accuracy: 0.6900 - val_loss: 0.7436 - val_accuracy: 0.4860\n",
            "Epoch 14/100\n",
            "8/8 [==============================] - 0s 9ms/step - loss: 0.5802 - accuracy: 0.7160 - val_loss: 0.7502 - val_accuracy: 0.4780\n",
            "Epoch 15/100\n",
            "8/8 [==============================] - 0s 7ms/step - loss: 0.5690 - accuracy: 0.7230 - val_loss: 0.7582 - val_accuracy: 0.4900\n",
            "Epoch 16/100\n",
            "8/8 [==============================] - 0s 8ms/step - loss: 0.5499 - accuracy: 0.7430 - val_loss: 0.7849 - val_accuracy: 0.4730\n",
            "Epoch 17/100\n",
            "8/8 [==============================] - 0s 9ms/step - loss: 0.5403 - accuracy: 0.7490 - val_loss: 0.7700 - val_accuracy: 0.4860\n",
            "Epoch 18/100\n",
            "8/8 [==============================] - 0s 9ms/step - loss: 0.5210 - accuracy: 0.7740 - val_loss: 0.7811 - val_accuracy: 0.5000\n",
            "Epoch 19/100\n",
            "8/8 [==============================] - 0s 8ms/step - loss: 0.5015 - accuracy: 0.7810 - val_loss: 0.7910 - val_accuracy: 0.4960\n",
            "Epoch 20/100\n",
            "8/8 [==============================] - 0s 9ms/step - loss: 0.4851 - accuracy: 0.8000 - val_loss: 0.7979 - val_accuracy: 0.4760\n",
            "Epoch 21/100\n",
            "8/8 [==============================] - 0s 8ms/step - loss: 0.4639 - accuracy: 0.8180 - val_loss: 0.8229 - val_accuracy: 0.5020\n",
            "Epoch 22/100\n",
            "8/8 [==============================] - 0s 9ms/step - loss: 0.4518 - accuracy: 0.8280 - val_loss: 0.8266 - val_accuracy: 0.4970\n",
            "Epoch 23/100\n",
            "8/8 [==============================] - 0s 8ms/step - loss: 0.4282 - accuracy: 0.8380 - val_loss: 0.8375 - val_accuracy: 0.4880\n",
            "Epoch 24/100\n",
            "8/8 [==============================] - 0s 8ms/step - loss: 0.4102 - accuracy: 0.8500 - val_loss: 0.8548 - val_accuracy: 0.4950\n",
            "Epoch 25/100\n",
            "8/8 [==============================] - 0s 8ms/step - loss: 0.3886 - accuracy: 0.8680 - val_loss: 0.8689 - val_accuracy: 0.4870\n",
            "Epoch 26/100\n",
            "8/8 [==============================] - 0s 9ms/step - loss: 0.3710 - accuracy: 0.8740 - val_loss: 0.8967 - val_accuracy: 0.4970\n",
            "Epoch 27/100\n",
            "8/8 [==============================] - 0s 10ms/step - loss: 0.3528 - accuracy: 0.8890 - val_loss: 0.9008 - val_accuracy: 0.4870\n",
            "Epoch 28/100\n",
            "8/8 [==============================] - 0s 9ms/step - loss: 0.3336 - accuracy: 0.8900 - val_loss: 0.9247 - val_accuracy: 0.4840\n",
            "Epoch 29/100\n",
            "8/8 [==============================] - 0s 9ms/step - loss: 0.3126 - accuracy: 0.9140 - val_loss: 0.9496 - val_accuracy: 0.5010\n",
            "Epoch 30/100\n",
            "8/8 [==============================] - 0s 8ms/step - loss: 0.2966 - accuracy: 0.9120 - val_loss: 0.9569 - val_accuracy: 0.4850\n",
            "Epoch 31/100\n",
            "8/8 [==============================] - 0s 9ms/step - loss: 0.2818 - accuracy: 0.9260 - val_loss: 0.9857 - val_accuracy: 0.4840\n",
            "Epoch 32/100\n",
            "8/8 [==============================] - 0s 8ms/step - loss: 0.2621 - accuracy: 0.9430 - val_loss: 1.0113 - val_accuracy: 0.4910\n",
            "Epoch 33/100\n",
            "8/8 [==============================] - 0s 10ms/step - loss: 0.2497 - accuracy: 0.9440 - val_loss: 1.0374 - val_accuracy: 0.4960\n",
            "Epoch 34/100\n",
            "8/8 [==============================] - 0s 9ms/step - loss: 0.2358 - accuracy: 0.9410 - val_loss: 1.0726 - val_accuracy: 0.4880\n",
            "Epoch 35/100\n",
            "8/8 [==============================] - 0s 9ms/step - loss: 0.2201 - accuracy: 0.9530 - val_loss: 1.0943 - val_accuracy: 0.4780\n",
            "Epoch 36/100\n",
            "8/8 [==============================] - 0s 9ms/step - loss: 0.2063 - accuracy: 0.9610 - val_loss: 1.1154 - val_accuracy: 0.4890\n",
            "Epoch 37/100\n",
            "8/8 [==============================] - 0s 8ms/step - loss: 0.1920 - accuracy: 0.9640 - val_loss: 1.1404 - val_accuracy: 0.4860\n",
            "Epoch 38/100\n",
            "8/8 [==============================] - 0s 9ms/step - loss: 0.1828 - accuracy: 0.9650 - val_loss: 1.1683 - val_accuracy: 0.4970\n",
            "Epoch 39/100\n",
            "8/8 [==============================] - 0s 8ms/step - loss: 0.1666 - accuracy: 0.9750 - val_loss: 1.2073 - val_accuracy: 0.4900\n",
            "Epoch 40/100\n",
            "8/8 [==============================] - 0s 8ms/step - loss: 0.1569 - accuracy: 0.9780 - val_loss: 1.2313 - val_accuracy: 0.4830\n",
            "Epoch 41/100\n",
            "8/8 [==============================] - 0s 8ms/step - loss: 0.1482 - accuracy: 0.9820 - val_loss: 1.2587 - val_accuracy: 0.4800\n",
            "Epoch 42/100\n",
            "8/8 [==============================] - 0s 9ms/step - loss: 0.1363 - accuracy: 0.9830 - val_loss: 1.2945 - val_accuracy: 0.4780\n",
            "Epoch 43/100\n",
            "8/8 [==============================] - 0s 7ms/step - loss: 0.1256 - accuracy: 0.9900 - val_loss: 1.3305 - val_accuracy: 0.4950\n",
            "Epoch 44/100\n",
            "8/8 [==============================] - 0s 8ms/step - loss: 0.1177 - accuracy: 0.9870 - val_loss: 1.3622 - val_accuracy: 0.4880\n",
            "Epoch 45/100\n",
            "8/8 [==============================] - 0s 8ms/step - loss: 0.1070 - accuracy: 0.9930 - val_loss: 1.3867 - val_accuracy: 0.4840\n",
            "Epoch 46/100\n",
            "8/8 [==============================] - 0s 9ms/step - loss: 0.1004 - accuracy: 0.9960 - val_loss: 1.4159 - val_accuracy: 0.4830\n",
            "Epoch 47/100\n",
            "8/8 [==============================] - 0s 10ms/step - loss: 0.0919 - accuracy: 0.9940 - val_loss: 1.4766 - val_accuracy: 0.4840\n",
            "Epoch 48/100\n",
            "8/8 [==============================] - 0s 9ms/step - loss: 0.0892 - accuracy: 0.9950 - val_loss: 1.4889 - val_accuracy: 0.4820\n",
            "Epoch 49/100\n",
            "8/8 [==============================] - 0s 9ms/step - loss: 0.0813 - accuracy: 0.9990 - val_loss: 1.5114 - val_accuracy: 0.4820\n",
            "Epoch 50/100\n",
            "8/8 [==============================] - 0s 9ms/step - loss: 0.0747 - accuracy: 0.9970 - val_loss: 1.5477 - val_accuracy: 0.4820\n",
            "Epoch 51/100\n",
            "8/8 [==============================] - 0s 9ms/step - loss: 0.0680 - accuracy: 0.9980 - val_loss: 1.5803 - val_accuracy: 0.4800\n",
            "Epoch 52/100\n",
            "8/8 [==============================] - 0s 7ms/step - loss: 0.0642 - accuracy: 0.9990 - val_loss: 1.6167 - val_accuracy: 0.4820\n",
            "Epoch 53/100\n",
            "8/8 [==============================] - 0s 10ms/step - loss: 0.0610 - accuracy: 0.9990 - val_loss: 1.6433 - val_accuracy: 0.4840\n",
            "Epoch 54/100\n",
            "8/8 [==============================] - 0s 8ms/step - loss: 0.0582 - accuracy: 1.0000 - val_loss: 1.6767 - val_accuracy: 0.4840\n",
            "Epoch 55/100\n",
            "8/8 [==============================] - 0s 8ms/step - loss: 0.0506 - accuracy: 1.0000 - val_loss: 1.7049 - val_accuracy: 0.4860\n",
            "Epoch 56/100\n",
            "8/8 [==============================] - 0s 9ms/step - loss: 0.0455 - accuracy: 1.0000 - val_loss: 1.7571 - val_accuracy: 0.4810\n",
            "Epoch 57/100\n",
            "8/8 [==============================] - 0s 9ms/step - loss: 0.0443 - accuracy: 1.0000 - val_loss: 1.7730 - val_accuracy: 0.4800\n",
            "Epoch 58/100\n",
            "8/8 [==============================] - 0s 9ms/step - loss: 0.0399 - accuracy: 1.0000 - val_loss: 1.7949 - val_accuracy: 0.4790\n",
            "Epoch 59/100\n",
            "8/8 [==============================] - 0s 8ms/step - loss: 0.0368 - accuracy: 1.0000 - val_loss: 1.8301 - val_accuracy: 0.4870\n",
            "Epoch 60/100\n",
            "8/8 [==============================] - 0s 9ms/step - loss: 0.0357 - accuracy: 1.0000 - val_loss: 1.8564 - val_accuracy: 0.4800\n",
            "Epoch 61/100\n",
            "8/8 [==============================] - 0s 9ms/step - loss: 0.0342 - accuracy: 1.0000 - val_loss: 1.8818 - val_accuracy: 0.4830\n",
            "Epoch 62/100\n",
            "8/8 [==============================] - 0s 9ms/step - loss: 0.0297 - accuracy: 1.0000 - val_loss: 1.9220 - val_accuracy: 0.4860\n",
            "Epoch 63/100\n",
            "8/8 [==============================] - 0s 9ms/step - loss: 0.0275 - accuracy: 1.0000 - val_loss: 1.9365 - val_accuracy: 0.4840\n",
            "Epoch 64/100\n",
            "8/8 [==============================] - 0s 9ms/step - loss: 0.0260 - accuracy: 1.0000 - val_loss: 1.9647 - val_accuracy: 0.4800\n",
            "Epoch 65/100\n",
            "8/8 [==============================] - 0s 9ms/step - loss: 0.0242 - accuracy: 1.0000 - val_loss: 2.0134 - val_accuracy: 0.4850\n",
            "Epoch 66/100\n",
            "8/8 [==============================] - 0s 7ms/step - loss: 0.0235 - accuracy: 1.0000 - val_loss: 2.0159 - val_accuracy: 0.4820\n",
            "Epoch 67/100\n",
            "8/8 [==============================] - 0s 8ms/step - loss: 0.0215 - accuracy: 1.0000 - val_loss: 2.0422 - val_accuracy: 0.4790\n",
            "Epoch 68/100\n",
            "8/8 [==============================] - 0s 8ms/step - loss: 0.0206 - accuracy: 1.0000 - val_loss: 2.0606 - val_accuracy: 0.4790\n",
            "Epoch 69/100\n",
            "8/8 [==============================] - 0s 9ms/step - loss: 0.0193 - accuracy: 1.0000 - val_loss: 2.0866 - val_accuracy: 0.4770\n",
            "Epoch 70/100\n",
            "8/8 [==============================] - 0s 8ms/step - loss: 0.0179 - accuracy: 1.0000 - val_loss: 2.1094 - val_accuracy: 0.4790\n",
            "Epoch 71/100\n",
            "8/8 [==============================] - 0s 8ms/step - loss: 0.0170 - accuracy: 1.0000 - val_loss: 2.1253 - val_accuracy: 0.4800\n",
            "Epoch 72/100\n",
            "8/8 [==============================] - 0s 10ms/step - loss: 0.0161 - accuracy: 1.0000 - val_loss: 2.1476 - val_accuracy: 0.4820\n",
            "Epoch 73/100\n",
            "8/8 [==============================] - 0s 10ms/step - loss: 0.0153 - accuracy: 1.0000 - val_loss: 2.1712 - val_accuracy: 0.4790\n",
            "Epoch 74/100\n",
            "8/8 [==============================] - 0s 10ms/step - loss: 0.0144 - accuracy: 1.0000 - val_loss: 2.1987 - val_accuracy: 0.4850\n",
            "Epoch 75/100\n",
            "8/8 [==============================] - 0s 8ms/step - loss: 0.0141 - accuracy: 1.0000 - val_loss: 2.2139 - val_accuracy: 0.4840\n",
            "Epoch 76/100\n",
            "8/8 [==============================] - 0s 10ms/step - loss: 0.0133 - accuracy: 1.0000 - val_loss: 2.2321 - val_accuracy: 0.4830\n",
            "Epoch 77/100\n",
            "8/8 [==============================] - 0s 9ms/step - loss: 0.0126 - accuracy: 1.0000 - val_loss: 2.2532 - val_accuracy: 0.4770\n",
            "Epoch 78/100\n",
            "8/8 [==============================] - 0s 7ms/step - loss: 0.0119 - accuracy: 1.0000 - val_loss: 2.2710 - val_accuracy: 0.4810\n",
            "Epoch 79/100\n",
            "8/8 [==============================] - 0s 7ms/step - loss: 0.0114 - accuracy: 1.0000 - val_loss: 2.2880 - val_accuracy: 0.4780\n",
            "Epoch 80/100\n",
            "8/8 [==============================] - 0s 9ms/step - loss: 0.0109 - accuracy: 1.0000 - val_loss: 2.3110 - val_accuracy: 0.4850\n",
            "Epoch 81/100\n",
            "8/8 [==============================] - 0s 8ms/step - loss: 0.0105 - accuracy: 1.0000 - val_loss: 2.3315 - val_accuracy: 0.4770\n",
            "Epoch 82/100\n",
            "8/8 [==============================] - 0s 9ms/step - loss: 0.0099 - accuracy: 1.0000 - val_loss: 2.3478 - val_accuracy: 0.4830\n",
            "Epoch 83/100\n",
            "8/8 [==============================] - 0s 10ms/step - loss: 0.0096 - accuracy: 1.0000 - val_loss: 2.3625 - val_accuracy: 0.4840\n",
            "Epoch 84/100\n",
            "8/8 [==============================] - 0s 8ms/step - loss: 0.0093 - accuracy: 1.0000 - val_loss: 2.3758 - val_accuracy: 0.4850\n",
            "Epoch 85/100\n",
            "8/8 [==============================] - 0s 8ms/step - loss: 0.0089 - accuracy: 1.0000 - val_loss: 2.3950 - val_accuracy: 0.4800\n",
            "Epoch 86/100\n",
            "8/8 [==============================] - 0s 8ms/step - loss: 0.0085 - accuracy: 1.0000 - val_loss: 2.4094 - val_accuracy: 0.4800\n",
            "Epoch 87/100\n",
            "8/8 [==============================] - 0s 7ms/step - loss: 0.0080 - accuracy: 1.0000 - val_loss: 2.4270 - val_accuracy: 0.4780\n",
            "Epoch 88/100\n",
            "8/8 [==============================] - 0s 8ms/step - loss: 0.0079 - accuracy: 1.0000 - val_loss: 2.4451 - val_accuracy: 0.4820\n",
            "Epoch 89/100\n",
            "8/8 [==============================] - 0s 9ms/step - loss: 0.0075 - accuracy: 1.0000 - val_loss: 2.4560 - val_accuracy: 0.4810\n",
            "Epoch 90/100\n",
            "8/8 [==============================] - 0s 9ms/step - loss: 0.0071 - accuracy: 1.0000 - val_loss: 2.4766 - val_accuracy: 0.4820\n",
            "Epoch 91/100\n",
            "8/8 [==============================] - 0s 9ms/step - loss: 0.0070 - accuracy: 1.0000 - val_loss: 2.4880 - val_accuracy: 0.4780\n",
            "Epoch 92/100\n",
            "8/8 [==============================] - 0s 8ms/step - loss: 0.0067 - accuracy: 1.0000 - val_loss: 2.5097 - val_accuracy: 0.4830\n",
            "Epoch 93/100\n",
            "8/8 [==============================] - 0s 8ms/step - loss: 0.0066 - accuracy: 1.0000 - val_loss: 2.5226 - val_accuracy: 0.4780\n",
            "Epoch 94/100\n",
            "8/8 [==============================] - 0s 7ms/step - loss: 0.0062 - accuracy: 1.0000 - val_loss: 2.5329 - val_accuracy: 0.4800\n",
            "Epoch 95/100\n",
            "8/8 [==============================] - 0s 8ms/step - loss: 0.0060 - accuracy: 1.0000 - val_loss: 2.5499 - val_accuracy: 0.4780\n",
            "Epoch 96/100\n",
            "8/8 [==============================] - 0s 7ms/step - loss: 0.0058 - accuracy: 1.0000 - val_loss: 2.5609 - val_accuracy: 0.4830\n",
            "Epoch 97/100\n",
            "8/8 [==============================] - 0s 9ms/step - loss: 0.0056 - accuracy: 1.0000 - val_loss: 2.5797 - val_accuracy: 0.4780\n",
            "Epoch 98/100\n",
            "8/8 [==============================] - 0s 9ms/step - loss: 0.0054 - accuracy: 1.0000 - val_loss: 2.5881 - val_accuracy: 0.4820\n",
            "Epoch 99/100\n",
            "8/8 [==============================] - 0s 8ms/step - loss: 0.0053 - accuracy: 1.0000 - val_loss: 2.6004 - val_accuracy: 0.4820\n",
            "Epoch 100/100\n",
            "8/8 [==============================] - 0s 8ms/step - loss: 0.0051 - accuracy: 1.0000 - val_loss: 2.6181 - val_accuracy: 0.4800\n",
            "32/32 [==============================] - 0s 1ms/step\n"
          ]
        },
        {
          "output_type": "execute_result",
          "data": {
            "text/plain": [
              "<keras.callbacks.History at 0x7f0934fd37f0>"
            ]
          },
          "metadata": {},
          "execution_count": 47
        }
      ],
      "source": [
        "model.fit(x=fake_data, y=fake_labels,\n",
        "          epochs=wandb.config['epochs'], batch_size=wandb.config['batch_size'],\n",
        "          verbose='auto',\n",
        "          validation_data=(fake_data_val, fake_labels_val),\n",
        "          callbacks=[logging_callback]\n",
        "         )"
      ]
    },
    {
      "cell_type": "markdown",
      "id": "1330bed6",
      "metadata": {
        "id": "1330bed6"
      },
      "source": [
        "## PyTorch"
      ]
    },
    {
      "cell_type": "code",
      "execution_count": 48,
      "id": "2af59350",
      "metadata": {
        "colab": {
          "base_uri": "https://localhost:8080/"
        },
        "id": "2af59350",
        "outputId": "2e55cc47-7125-428a-b378-cf1f8331e9d9"
      },
      "outputs": [
        {
          "output_type": "stream",
          "name": "stdout",
          "text": [
            "Collecting pytorch-lightning\n",
            "  Downloading pytorch_lightning-2.0.7-py3-none-any.whl (724 kB)\n",
            "\u001b[2K     \u001b[90m━━━━━━━━━━━━━━━━━━━━━━━━━━━━━━━━━━━━━━━\u001b[0m \u001b[32m725.0/725.0 kB\u001b[0m \u001b[31m8.3 MB/s\u001b[0m eta \u001b[36m0:00:00\u001b[0m\n",
            "\u001b[?25hRequirement already satisfied: numpy>=1.17.2 in /usr/local/lib/python3.10/dist-packages (from pytorch-lightning) (1.23.5)\n",
            "Requirement already satisfied: torch>=1.11.0 in /usr/local/lib/python3.10/dist-packages (from pytorch-lightning) (2.0.1+cu118)\n",
            "Requirement already satisfied: tqdm>=4.57.0 in /usr/local/lib/python3.10/dist-packages (from pytorch-lightning) (4.66.1)\n",
            "Requirement already satisfied: PyYAML>=5.4 in /usr/local/lib/python3.10/dist-packages (from pytorch-lightning) (6.0.1)\n",
            "Requirement already satisfied: fsspec[http]>2021.06.0 in /usr/local/lib/python3.10/dist-packages (from pytorch-lightning) (2023.6.0)\n",
            "Collecting torchmetrics>=0.7.0 (from pytorch-lightning)\n",
            "  Downloading torchmetrics-1.1.0-py3-none-any.whl (761 kB)\n",
            "\u001b[2K     \u001b[90m━━━━━━━━━━━━━━━━━━━━━━━━━━━━━━━━━━━━━━\u001b[0m \u001b[32m761.3/761.3 kB\u001b[0m \u001b[31m45.6 MB/s\u001b[0m eta \u001b[36m0:00:00\u001b[0m\n",
            "\u001b[?25hRequirement already satisfied: packaging>=17.1 in /usr/local/lib/python3.10/dist-packages (from pytorch-lightning) (23.1)\n",
            "Requirement already satisfied: typing-extensions>=4.0.0 in /usr/local/lib/python3.10/dist-packages (from pytorch-lightning) (4.7.1)\n",
            "Collecting lightning-utilities>=0.7.0 (from pytorch-lightning)\n",
            "  Downloading lightning_utilities-0.9.0-py3-none-any.whl (23 kB)\n",
            "Requirement already satisfied: requests in /usr/local/lib/python3.10/dist-packages (from fsspec[http]>2021.06.0->pytorch-lightning) (2.31.0)\n",
            "Requirement already satisfied: aiohttp!=4.0.0a0,!=4.0.0a1 in /usr/local/lib/python3.10/dist-packages (from fsspec[http]>2021.06.0->pytorch-lightning) (3.8.5)\n",
            "Requirement already satisfied: filelock in /usr/local/lib/python3.10/dist-packages (from torch>=1.11.0->pytorch-lightning) (3.12.2)\n",
            "Requirement already satisfied: sympy in /usr/local/lib/python3.10/dist-packages (from torch>=1.11.0->pytorch-lightning) (1.12)\n",
            "Requirement already satisfied: networkx in /usr/local/lib/python3.10/dist-packages (from torch>=1.11.0->pytorch-lightning) (3.1)\n",
            "Requirement already satisfied: jinja2 in /usr/local/lib/python3.10/dist-packages (from torch>=1.11.0->pytorch-lightning) (3.1.2)\n",
            "Requirement already satisfied: triton==2.0.0 in /usr/local/lib/python3.10/dist-packages (from torch>=1.11.0->pytorch-lightning) (2.0.0)\n",
            "Requirement already satisfied: cmake in /usr/local/lib/python3.10/dist-packages (from triton==2.0.0->torch>=1.11.0->pytorch-lightning) (3.27.2)\n",
            "Requirement already satisfied: lit in /usr/local/lib/python3.10/dist-packages (from triton==2.0.0->torch>=1.11.0->pytorch-lightning) (16.0.6)\n",
            "Requirement already satisfied: attrs>=17.3.0 in /usr/local/lib/python3.10/dist-packages (from aiohttp!=4.0.0a0,!=4.0.0a1->fsspec[http]>2021.06.0->pytorch-lightning) (23.1.0)\n",
            "Requirement already satisfied: charset-normalizer<4.0,>=2.0 in /usr/local/lib/python3.10/dist-packages (from aiohttp!=4.0.0a0,!=4.0.0a1->fsspec[http]>2021.06.0->pytorch-lightning) (3.2.0)\n",
            "Requirement already satisfied: multidict<7.0,>=4.5 in /usr/local/lib/python3.10/dist-packages (from aiohttp!=4.0.0a0,!=4.0.0a1->fsspec[http]>2021.06.0->pytorch-lightning) (6.0.4)\n",
            "Requirement already satisfied: async-timeout<5.0,>=4.0.0a3 in /usr/local/lib/python3.10/dist-packages (from aiohttp!=4.0.0a0,!=4.0.0a1->fsspec[http]>2021.06.0->pytorch-lightning) (4.0.3)\n",
            "Requirement already satisfied: yarl<2.0,>=1.0 in /usr/local/lib/python3.10/dist-packages (from aiohttp!=4.0.0a0,!=4.0.0a1->fsspec[http]>2021.06.0->pytorch-lightning) (1.9.2)\n",
            "Requirement already satisfied: frozenlist>=1.1.1 in /usr/local/lib/python3.10/dist-packages (from aiohttp!=4.0.0a0,!=4.0.0a1->fsspec[http]>2021.06.0->pytorch-lightning) (1.4.0)\n",
            "Requirement already satisfied: aiosignal>=1.1.2 in /usr/local/lib/python3.10/dist-packages (from aiohttp!=4.0.0a0,!=4.0.0a1->fsspec[http]>2021.06.0->pytorch-lightning) (1.3.1)\n",
            "Requirement already satisfied: MarkupSafe>=2.0 in /usr/local/lib/python3.10/dist-packages (from jinja2->torch>=1.11.0->pytorch-lightning) (2.1.3)\n",
            "Requirement already satisfied: idna<4,>=2.5 in /usr/local/lib/python3.10/dist-packages (from requests->fsspec[http]>2021.06.0->pytorch-lightning) (3.4)\n",
            "Requirement already satisfied: urllib3<3,>=1.21.1 in /usr/local/lib/python3.10/dist-packages (from requests->fsspec[http]>2021.06.0->pytorch-lightning) (2.0.4)\n",
            "Requirement already satisfied: certifi>=2017.4.17 in /usr/local/lib/python3.10/dist-packages (from requests->fsspec[http]>2021.06.0->pytorch-lightning) (2023.7.22)\n",
            "Requirement already satisfied: mpmath>=0.19 in /usr/local/lib/python3.10/dist-packages (from sympy->torch>=1.11.0->pytorch-lightning) (1.3.0)\n",
            "Installing collected packages: lightning-utilities, torchmetrics, pytorch-lightning\n",
            "Successfully installed lightning-utilities-0.9.0 pytorch-lightning-2.0.7 torchmetrics-1.1.0\n"
          ]
        }
      ],
      "source": [
        "pip install pytorch-lightning"
      ]
    },
    {
      "cell_type": "code",
      "execution_count": 49,
      "id": "f520f842",
      "metadata": {
        "id": "f520f842"
      },
      "outputs": [],
      "source": [
        "import pytorch_lightning as pl\n",
        "from pytorch_lightning.loggers import WandbLogger"
      ]
    },
    {
      "cell_type": "code",
      "execution_count": 50,
      "id": "7561c073",
      "metadata": {
        "colab": {
          "base_uri": "https://localhost:8080/"
        },
        "id": "7561c073",
        "outputId": "5dc14c8c-9ae6-48ca-d582-55bbc6ec41fa"
      },
      "outputs": [
        {
          "output_type": "stream",
          "name": "stderr",
          "text": [
            "/usr/local/lib/python3.10/dist-packages/pytorch_lightning/loggers/wandb.py:397: UserWarning: There is a wandb run already in progress and newly created instances of `WandbLogger` will reuse this run. If this is not desired, call `wandb.finish()` before instantiating `WandbLogger`.\n",
            "  rank_zero_warn(\n"
          ]
        }
      ],
      "source": [
        "wandb_logger = WandbLogger(project=\"example-DL-Book\", name=\"run-2\", entity=\"tpalczew\")"
      ]
    },
    {
      "cell_type": "code",
      "execution_count": 51,
      "id": "32c7ea7d",
      "metadata": {
        "colab": {
          "base_uri": "https://localhost:8080/",
          "height": 591,
          "referenced_widgets": [
            "c5320c7241ca476e9b5e1a864ee4a17f",
            "0cd508a44f4141e59f9d10e940c7aeff",
            "6f06103733374dad8fd877621b0d3e37",
            "51670a7d9158418da48710d98e7e2c36",
            "fff97106a72045798d5da6e43402d344",
            "a9214c9977ff4bc7941e77296f28d966",
            "10aefe4e53ab42889112c92b8d523ef4",
            "b5ff3a65a8d44df7b541ba3e29a020a0"
          ]
        },
        "id": "32c7ea7d",
        "outputId": "68ebe694-8b78-4413-ae8c-9d93a03a64e3"
      },
      "outputs": [
        {
          "output_type": "display_data",
          "data": {
            "text/plain": [
              "<IPython.core.display.HTML object>"
            ],
            "text/html": [
              "Finishing last run (ID:fazow6bv) before initializing another..."
            ]
          },
          "metadata": {}
        },
        {
          "output_type": "display_data",
          "data": {
            "text/plain": [
              "<IPython.core.display.HTML object>"
            ],
            "text/html": [
              "Waiting for W&B process to finish... <strong style=\"color:green\">(success).</strong>"
            ]
          },
          "metadata": {}
        },
        {
          "output_type": "display_data",
          "data": {
            "text/plain": [
              "VBox(children=(Label(value='56.647 MB of 56.647 MB uploaded (0.000 MB deduped)\\r'), FloatProgress(value=1.0, m…"
            ],
            "application/vnd.jupyter.widget-view+json": {
              "version_major": 2,
              "version_minor": 0,
              "model_id": "c5320c7241ca476e9b5e1a864ee4a17f"
            }
          },
          "metadata": {}
        },
        {
          "output_type": "display_data",
          "data": {
            "text/plain": [
              "<IPython.core.display.HTML object>"
            ],
            "text/html": [
              "<style>\n",
              "    table.wandb td:nth-child(1) { padding: 0 10px; text-align: left ; width: auto;} td:nth-child(2) {text-align: left ; width: 100%}\n",
              "    .wandb-row { display: flex; flex-direction: row; flex-wrap: wrap; justify-content: flex-start; width: 100% }\n",
              "    .wandb-col { display: flex; flex-direction: column; flex-basis: 100%; flex: 1; padding: 10px; }\n",
              "    </style>\n",
              "<div class=\"wandb-row\"><div class=\"wandb-col\"><h3>Run history:</h3><br/><table class=\"wandb\"><tr><td>accuracy</td><td>▁▂▃▃▄▄▄▅▆▆▆▇▇▇▇█████████████████████████</td></tr><tr><td>epoch</td><td>▁▁▁▁▂▂▂▂▂▃▃▃▃▃▃▄▄▄▄▄▅▅▅▅▅▅▆▆▆▆▆▇▇▇▇▇▇███</td></tr><tr><td>loss</td><td>███▇▇▇▇▆▆▅▅▄▄▃▃▃▂▂▂▂▂▂▁▁▁▁▁▁▁▁▁▁▁▁▁▁▁▁▁▁</td></tr><tr><td>val_accuracy</td><td>█▄▅▇▆▄▁██▅▇▄▄▅▅▅▃▅▃▃▃▄▃▄▃▃▂▂▃▄▂▂▃▄▂▃▃▃▂▃</td></tr><tr><td>val_loss</td><td>▁▁▁▁▁▁▁▁▁▂▂▂▂▂▃▃▃▃▄▄▄▅▅▅▅▆▆▆▆▆▇▇▇▇▇▇████</td></tr></table><br/></div><div class=\"wandb-col\"><h3>Run summary:</h3><br/><table class=\"wandb\"><tr><td>accuracy</td><td>1.0</td></tr><tr><td>best_epoch</td><td>0</td></tr><tr><td>best_val_loss</td><td>0.69482</td></tr><tr><td>epoch</td><td>99</td></tr><tr><td>loss</td><td>0.0051</td></tr><tr><td>val_accuracy</td><td>0.48</td></tr><tr><td>val_loss</td><td>2.61815</td></tr></table><br/></div></div>"
            ]
          },
          "metadata": {}
        },
        {
          "output_type": "display_data",
          "data": {
            "text/plain": [
              "<IPython.core.display.HTML object>"
            ],
            "text/html": [
              " View run <strong style=\"color:#cdcd00\">run-1</strong> at: <a href='https://wandb.ai/datasiast/example-DL-Book/runs/fazow6bv' target=\"_blank\">https://wandb.ai/datasiast/example-DL-Book/runs/fazow6bv</a><br/>Synced 5 W&B file(s), 2 media file(s), 67 artifact file(s) and 1 other file(s)"
            ]
          },
          "metadata": {}
        },
        {
          "output_type": "display_data",
          "data": {
            "text/plain": [
              "<IPython.core.display.HTML object>"
            ],
            "text/html": [
              "Find logs at: <code>./wandb/run-20230826_195117-fazow6bv/logs</code>"
            ]
          },
          "metadata": {}
        },
        {
          "output_type": "display_data",
          "data": {
            "text/plain": [
              "<IPython.core.display.HTML object>"
            ],
            "text/html": [
              "Successfully finished last run (ID:fazow6bv). Initializing new run:<br/>"
            ]
          },
          "metadata": {}
        },
        {
          "output_type": "display_data",
          "data": {
            "text/plain": [
              "<IPython.core.display.HTML object>"
            ],
            "text/html": [
              "Tracking run with wandb version 0.15.8"
            ]
          },
          "metadata": {}
        },
        {
          "output_type": "display_data",
          "data": {
            "text/plain": [
              "<IPython.core.display.HTML object>"
            ],
            "text/html": [
              "Run data is saved locally in <code>/content/wandb/run-20230826_201127-y81x5lu0</code>"
            ]
          },
          "metadata": {}
        },
        {
          "output_type": "display_data",
          "data": {
            "text/plain": [
              "<IPython.core.display.HTML object>"
            ],
            "text/html": [
              "Syncing run <strong><a href='https://wandb.ai/datasiast/example-DL-Book/runs/y81x5lu0' target=\"_blank\">run-2</a></strong> to <a href='https://wandb.ai/datasiast/example-DL-Book' target=\"_blank\">Weights & Biases</a> (<a href='https://wandb.me/run' target=\"_blank\">docs</a>)<br/>"
            ]
          },
          "metadata": {}
        },
        {
          "output_type": "display_data",
          "data": {
            "text/plain": [
              "<IPython.core.display.HTML object>"
            ],
            "text/html": [
              " View project at <a href='https://wandb.ai/datasiast/example-DL-Book' target=\"_blank\">https://wandb.ai/datasiast/example-DL-Book</a>"
            ]
          },
          "metadata": {}
        },
        {
          "output_type": "display_data",
          "data": {
            "text/plain": [
              "<IPython.core.display.HTML object>"
            ],
            "text/html": [
              " View run at <a href='https://wandb.ai/datasiast/example-DL-Book/runs/y81x5lu0' target=\"_blank\">https://wandb.ai/datasiast/example-DL-Book/runs/y81x5lu0</a>"
            ]
          },
          "metadata": {}
        },
        {
          "output_type": "stream",
          "name": "stderr",
          "text": [
            "INFO:pytorch_lightning.utilities.rank_zero:GPU available: False, used: False\n",
            "INFO:pytorch_lightning.utilities.rank_zero:TPU available: False, using: 0 TPU cores\n",
            "INFO:pytorch_lightning.utilities.rank_zero:IPU available: False, using: 0 IPUs\n",
            "INFO:pytorch_lightning.utilities.rank_zero:HPU available: False, using: 0 HPUs\n"
          ]
        }
      ],
      "source": [
        "wandb.init(project=\"example-DL-Book\", name=\"run-2\")\n",
        "wandb.config = {\n",
        "  \"learning_rate\": 0.001,\n",
        "  \"epochs\": 100\n",
        "}\n",
        "\n",
        "wandb_logger = WandbLogger(project=\"example-DL-Book\")\n",
        "trainer = pl.Trainer(logger=wandb_logger)\n",
        "\n",
        "class LitModule(pl.LightningModule):\n",
        "    def __init__(self, *args, **kwarg):\n",
        "        self.save_hyperparameters()\n",
        "\n",
        "    def training_step(self, batch, batch_idx):\n",
        "        self.log(\"train/loss\", loss)"
      ]
    },
    {
      "cell_type": "markdown",
      "id": "f78c0d93",
      "metadata": {
        "id": "f78c0d93"
      },
      "source": [
        "https://wandb.ai/site/articles/pytorch-lightning-with-weights-biases"
      ]
    },
    {
      "cell_type": "code",
      "execution_count": null,
      "id": "2104ef37",
      "metadata": {
        "id": "2104ef37"
      },
      "outputs": [],
      "source": []
    }
  ],
  "metadata": {
    "kernelspec": {
      "display_name": "Python 3",
      "name": "python3"
    },
    "language_info": {
      "codemirror_mode": {
        "name": "ipython",
        "version": 3
      },
      "file_extension": ".py",
      "mimetype": "text/x-python",
      "name": "python",
      "nbconvert_exporter": "python",
      "pygments_lexer": "ipython3",
      "version": "3.7.11"
    },
    "colab": {
      "provenance": [],
      "gpuType": "T4",
      "include_colab_link": true
    },
    "accelerator": "GPU",
    "widgets": {
      "application/vnd.jupyter.widget-state+json": {
        "c5320c7241ca476e9b5e1a864ee4a17f": {
          "model_module": "@jupyter-widgets/controls",
          "model_name": "VBoxModel",
          "model_module_version": "1.5.0",
          "state": {
            "_dom_classes": [],
            "_model_module": "@jupyter-widgets/controls",
            "_model_module_version": "1.5.0",
            "_model_name": "VBoxModel",
            "_view_count": null,
            "_view_module": "@jupyter-widgets/controls",
            "_view_module_version": "1.5.0",
            "_view_name": "VBoxView",
            "box_style": "",
            "children": [
              "IPY_MODEL_0cd508a44f4141e59f9d10e940c7aeff",
              "IPY_MODEL_6f06103733374dad8fd877621b0d3e37"
            ],
            "layout": "IPY_MODEL_51670a7d9158418da48710d98e7e2c36"
          }
        },
        "0cd508a44f4141e59f9d10e940c7aeff": {
          "model_module": "@jupyter-widgets/controls",
          "model_name": "LabelModel",
          "model_module_version": "1.5.0",
          "state": {
            "_dom_classes": [],
            "_model_module": "@jupyter-widgets/controls",
            "_model_module_version": "1.5.0",
            "_model_name": "LabelModel",
            "_view_count": null,
            "_view_module": "@jupyter-widgets/controls",
            "_view_module_version": "1.5.0",
            "_view_name": "LabelView",
            "description": "",
            "description_tooltip": null,
            "layout": "IPY_MODEL_fff97106a72045798d5da6e43402d344",
            "placeholder": "​",
            "style": "IPY_MODEL_a9214c9977ff4bc7941e77296f28d966",
            "value": "56.647 MB of 56.672 MB uploaded (0.000 MB deduped)\r"
          }
        },
        "6f06103733374dad8fd877621b0d3e37": {
          "model_module": "@jupyter-widgets/controls",
          "model_name": "FloatProgressModel",
          "model_module_version": "1.5.0",
          "state": {
            "_dom_classes": [],
            "_model_module": "@jupyter-widgets/controls",
            "_model_module_version": "1.5.0",
            "_model_name": "FloatProgressModel",
            "_view_count": null,
            "_view_module": "@jupyter-widgets/controls",
            "_view_module_version": "1.5.0",
            "_view_name": "ProgressView",
            "bar_style": "",
            "description": "",
            "description_tooltip": null,
            "layout": "IPY_MODEL_10aefe4e53ab42889112c92b8d523ef4",
            "max": 1,
            "min": 0,
            "orientation": "horizontal",
            "style": "IPY_MODEL_b5ff3a65a8d44df7b541ba3e29a020a0",
            "value": 0.9995673833499636
          }
        },
        "51670a7d9158418da48710d98e7e2c36": {
          "model_module": "@jupyter-widgets/base",
          "model_name": "LayoutModel",
          "model_module_version": "1.2.0",
          "state": {
            "_model_module": "@jupyter-widgets/base",
            "_model_module_version": "1.2.0",
            "_model_name": "LayoutModel",
            "_view_count": null,
            "_view_module": "@jupyter-widgets/base",
            "_view_module_version": "1.2.0",
            "_view_name": "LayoutView",
            "align_content": null,
            "align_items": null,
            "align_self": null,
            "border": null,
            "bottom": null,
            "display": null,
            "flex": null,
            "flex_flow": null,
            "grid_area": null,
            "grid_auto_columns": null,
            "grid_auto_flow": null,
            "grid_auto_rows": null,
            "grid_column": null,
            "grid_gap": null,
            "grid_row": null,
            "grid_template_areas": null,
            "grid_template_columns": null,
            "grid_template_rows": null,
            "height": null,
            "justify_content": null,
            "justify_items": null,
            "left": null,
            "margin": null,
            "max_height": null,
            "max_width": null,
            "min_height": null,
            "min_width": null,
            "object_fit": null,
            "object_position": null,
            "order": null,
            "overflow": null,
            "overflow_x": null,
            "overflow_y": null,
            "padding": null,
            "right": null,
            "top": null,
            "visibility": null,
            "width": null
          }
        },
        "fff97106a72045798d5da6e43402d344": {
          "model_module": "@jupyter-widgets/base",
          "model_name": "LayoutModel",
          "model_module_version": "1.2.0",
          "state": {
            "_model_module": "@jupyter-widgets/base",
            "_model_module_version": "1.2.0",
            "_model_name": "LayoutModel",
            "_view_count": null,
            "_view_module": "@jupyter-widgets/base",
            "_view_module_version": "1.2.0",
            "_view_name": "LayoutView",
            "align_content": null,
            "align_items": null,
            "align_self": null,
            "border": null,
            "bottom": null,
            "display": null,
            "flex": null,
            "flex_flow": null,
            "grid_area": null,
            "grid_auto_columns": null,
            "grid_auto_flow": null,
            "grid_auto_rows": null,
            "grid_column": null,
            "grid_gap": null,
            "grid_row": null,
            "grid_template_areas": null,
            "grid_template_columns": null,
            "grid_template_rows": null,
            "height": null,
            "justify_content": null,
            "justify_items": null,
            "left": null,
            "margin": null,
            "max_height": null,
            "max_width": null,
            "min_height": null,
            "min_width": null,
            "object_fit": null,
            "object_position": null,
            "order": null,
            "overflow": null,
            "overflow_x": null,
            "overflow_y": null,
            "padding": null,
            "right": null,
            "top": null,
            "visibility": null,
            "width": null
          }
        },
        "a9214c9977ff4bc7941e77296f28d966": {
          "model_module": "@jupyter-widgets/controls",
          "model_name": "DescriptionStyleModel",
          "model_module_version": "1.5.0",
          "state": {
            "_model_module": "@jupyter-widgets/controls",
            "_model_module_version": "1.5.0",
            "_model_name": "DescriptionStyleModel",
            "_view_count": null,
            "_view_module": "@jupyter-widgets/base",
            "_view_module_version": "1.2.0",
            "_view_name": "StyleView",
            "description_width": ""
          }
        },
        "10aefe4e53ab42889112c92b8d523ef4": {
          "model_module": "@jupyter-widgets/base",
          "model_name": "LayoutModel",
          "model_module_version": "1.2.0",
          "state": {
            "_model_module": "@jupyter-widgets/base",
            "_model_module_version": "1.2.0",
            "_model_name": "LayoutModel",
            "_view_count": null,
            "_view_module": "@jupyter-widgets/base",
            "_view_module_version": "1.2.0",
            "_view_name": "LayoutView",
            "align_content": null,
            "align_items": null,
            "align_self": null,
            "border": null,
            "bottom": null,
            "display": null,
            "flex": null,
            "flex_flow": null,
            "grid_area": null,
            "grid_auto_columns": null,
            "grid_auto_flow": null,
            "grid_auto_rows": null,
            "grid_column": null,
            "grid_gap": null,
            "grid_row": null,
            "grid_template_areas": null,
            "grid_template_columns": null,
            "grid_template_rows": null,
            "height": null,
            "justify_content": null,
            "justify_items": null,
            "left": null,
            "margin": null,
            "max_height": null,
            "max_width": null,
            "min_height": null,
            "min_width": null,
            "object_fit": null,
            "object_position": null,
            "order": null,
            "overflow": null,
            "overflow_x": null,
            "overflow_y": null,
            "padding": null,
            "right": null,
            "top": null,
            "visibility": null,
            "width": null
          }
        },
        "b5ff3a65a8d44df7b541ba3e29a020a0": {
          "model_module": "@jupyter-widgets/controls",
          "model_name": "ProgressStyleModel",
          "model_module_version": "1.5.0",
          "state": {
            "_model_module": "@jupyter-widgets/controls",
            "_model_module_version": "1.5.0",
            "_model_name": "ProgressStyleModel",
            "_view_count": null,
            "_view_module": "@jupyter-widgets/base",
            "_view_module_version": "1.2.0",
            "_view_name": "StyleView",
            "bar_color": null,
            "description_width": ""
          }
        }
      }
    }
  },
  "nbformat": 4,
  "nbformat_minor": 5
}